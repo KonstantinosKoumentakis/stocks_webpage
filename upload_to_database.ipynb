{
 "cells": [
  {
   "cell_type": "code",
   "execution_count": 1,
   "id": "7372d6da-1110-4db0-8604-2c03c188c027",
   "metadata": {},
   "outputs": [],
   "source": [
    "# Set up spark environment\n",
    "import os\n",
    "\n",
    "os.environ[\"JAVA_HOME\"] = \"/usr/lib/jvm/java-8-openjdk-amd64\"\n",
    "os.environ[\"SPARK_HOME\"] = \"/project/spark-3.2.1-bin-hadoop3.2\"\n",
    "\n",
    "from pyspark.sql import SparkSession\n",
    "\n",
    "spark = SparkSession \\\n",
    "    .builder \\\n",
    "    .appName(\"PySpark App\") \\\n",
    "    .config(\"spark.jars\", \"/project/postgresql-42.3.2.jar\") \\\n",
    "    .getOrCreate()"
   ]
  },
  {
   "cell_type": "markdown",
   "id": "5a1f2428",
   "metadata": {},
   "source": [
    "# Access data"
   ]
  },
  {
   "cell_type": "code",
   "execution_count": 2,
   "id": "3767b3f7",
   "metadata": {},
   "outputs": [
    {
     "name": "stdout",
     "output_type": "stream",
     "text": [
      "+------+\n",
      "|ticker|\n",
      "+------+\n",
      "|   MMM|\n",
      "|   AOS|\n",
      "|   ABT|\n",
      "|  ABBV|\n",
      "|  ABMD|\n",
      "|   ACN|\n",
      "|  ATVI|\n",
      "|   ADM|\n",
      "|  ADBE|\n",
      "|   ADP|\n",
      "|   AAP|\n",
      "|   AES|\n",
      "|   AFL|\n",
      "|     A|\n",
      "|   AIG|\n",
      "|   APD|\n",
      "|  AKAM|\n",
      "|   ALK|\n",
      "|   ALB|\n",
      "|   ARE|\n",
      "+------+\n",
      "only showing top 20 rows\n",
      "\n"
     ]
    }
   ],
   "source": [
    "s_p_companies = spark.read.parquet('/project/parquet_files/s_p_companies.parquet', encoding = 'UTF-8')\n",
    "s_p_companies.show()"
   ]
  },
  {
   "cell_type": "code",
   "execution_count": 3,
   "id": "adf0c78b",
   "metadata": {},
   "outputs": [
    {
     "name": "stdout",
     "output_type": "stream",
     "text": [
      "+----------+------+-------------------+-------------------+-------------------+-------------------+-------------------+---------+---------+------------+\n",
      "|history_id|ticker|               date|               open|               high|                low|              close|   volume|dividents|stock_splits|\n",
      "+----------+------+-------------------+-------------------+-------------------+-------------------+-------------------+---------+---------+------------+\n",
      "|         0|  AAPL|1980-12-12 00:00:00|0.10032562166452408|0.10076179581247681|0.10032562166452408|0.10032562166452408|469033600|      0.0|         0.0|\n",
      "|         1|  AAPL|1980-12-15 00:00:00| 0.0955277555324095| 0.0955277555324095|0.09509158134460449|0.09509158134460449|175884800|      0.0|         0.0|\n",
      "|         2|  AAPL|1980-12-16 00:00:00|0.08854826203540919|0.08854826203540919|0.08811209350824356|0.08811209350824356|105728000|      0.0|         0.0|\n",
      "|         3|  AAPL|1980-12-17 00:00:00|0.09029291570186615|0.09072908989790515|0.09029291570186615|0.09029291570186615| 86441600|      0.0|         0.0|\n",
      "|         4|  AAPL|1980-12-18 00:00:00|0.09291070699691772|0.09334687526281336|0.09291070699691772|0.09291070699691772| 73449600|      0.0|         0.0|\n",
      "|         5|  AAPL|1980-12-19 00:00:00|0.09858094155788422|0.09901711572724016|0.09858094155788422|0.09858094155788422| 48630400|      0.0|         0.0|\n",
      "|         6|  AAPL|1980-12-22 00:00:00|0.10337880253791809|0.10381575697457858|0.10337880253791809|0.10337880253791809| 37363200|      0.0|         0.0|\n",
      "|         7|  AAPL|1980-12-23 00:00:00| 0.1077413111925125|0.10817748532104574| 0.1077413111925125|0.10774131119251251| 46950400|      0.0|         0.0|\n",
      "|         8|  AAPL|1980-12-24 00:00:00| 0.1134115681052208|0.11384774234215225| 0.1134115681052208| 0.1134115681052208| 48003200|      0.0|         0.0|\n",
      "|         9|  AAPL|1980-12-26 00:00:00|0.12388045340776443|0.12431662762040818|0.12388045340776443|0.12388045340776443| 55574400|      0.0|         0.0|\n",
      "|        10|  AAPL|1980-12-29 00:00:00| 0.1256251186132431|0.12606129275645556| 0.1256251186132431| 0.1256251186132431| 93161600|      0.0|         0.0|\n",
      "|        11|  AAPL|1980-12-30 00:00:00|0.12300807785679418|0.12300807785679418| 0.1225719153881073| 0.1225719153881073| 68880000|      0.0|         0.0|\n",
      "|        12|  AAPL|1980-12-31 00:00:00|0.11951877419302327|0.11951877419302327|0.11908259987831116|0.11908259987831116| 35750400|      0.0|         0.0|\n",
      "|        13|  AAPL|1981-01-02 00:00:00|0.12039108574390413|0.12126343418905815|0.12039108574390413|0.12039108574390411| 21660800|      0.0|         0.0|\n",
      "|        14|  AAPL|1981-01-05 00:00:00|0.11821024686114112|0.11821024686114112|0.11777408421039581|0.11777408421039581| 35728000|      0.0|         0.0|\n",
      "|        15|  AAPL|1981-01-06 00:00:00|0.11297536866391082|0.11297536866391082|0.11253919452428816|0.11253919452428818| 45158400|      0.0|         0.0|\n",
      "|        16|  AAPL|1981-01-07 00:00:00|0.10817748532104574|0.10817748532104574| 0.1077413111925125|0.10774131119251251| 55686400|      0.0|         0.0|\n",
      "|        17|  AAPL|1981-01-08 00:00:00|0.10599662165812015|0.10599662165812015|0.10556045919656755|0.10556045919656754| 39827200|      0.0|         0.0|\n",
      "|        18|  AAPL|1981-01-09 00:00:00|0.11123070865869522|0.11166688289598099|0.11123070865869522|0.11123070865869522| 21504000|      0.0|         0.0|\n",
      "|        19|  AAPL|1981-01-12 00:00:00|0.11123069414245584|0.11123069414245584| 0.1103583574295044| 0.1103583574295044| 23699200|      0.0|         0.0|\n",
      "+----------+------+-------------------+-------------------+-------------------+-------------------+-------------------+---------+---------+------------+\n",
      "only showing top 20 rows\n",
      "\n"
     ]
    }
   ],
   "source": [
    "history = spark.read.parquet('/project/parquet_files/history.parquet', encoding = 'UTF-8')\n",
    "history.show()"
   ]
  },
  {
   "cell_type": "code",
   "execution_count": 4,
   "id": "2b39a159",
   "metadata": {
    "scrolled": true
   },
   "outputs": [
    {
     "name": "stdout",
     "output_type": "stream",
     "text": [
      "+-----------------+------+-----------------+---------------+\n",
      "|recommendation_id|ticker|            grade|number_of_firms|\n",
      "+-----------------+------+-----------------+---------------+\n",
      "|                0|  AAPL|              Buy|            317|\n",
      "|                1|  AAPL|       Outperform|            164|\n",
      "|                2|  AAPL|       Overweight|            136|\n",
      "|                3|  AAPL|          Neutral|             83|\n",
      "|                4|  AAPL|             Hold|             40|\n",
      "|                5|  AAPL|     Equal-Weight|             23|\n",
      "|                6|  AAPL|   Market Perform|             23|\n",
      "|                7|  AAPL|       Strong Buy|              9|\n",
      "|                8|  AAPL|             Sell|              8|\n",
      "|                9|  AAPL|   Sector Perform|              4|\n",
      "|               10|  AAPL|         Positive|              4|\n",
      "|               11|  AAPL|                 |              3|\n",
      "|               12|  AAPL|Market Outperform|              3|\n",
      "|               13|  AAPL|          Perform|              2|\n",
      "|               14|  AAPL|Sector Outperform|              2|\n",
      "|               15|  AAPL|    Sector Weight|              2|\n",
      "|               16|  AAPL|         Negative|              1|\n",
      "|               17|  AAPL|     Peer Perform|              1|\n",
      "|               18|  AAPL|           Reduce|              1|\n",
      "|               19|  AAPL|    Long-term Buy|              1|\n",
      "+-----------------+------+-----------------+---------------+\n",
      "only showing top 20 rows\n",
      "\n"
     ]
    }
   ],
   "source": [
    "recommendations = spark.read.parquet('/project/parquet_files/recommendations.parquet')\n",
    "recommendations.show()"
   ]
  },
  {
   "cell_type": "code",
   "execution_count": 5,
   "id": "bbb87915",
   "metadata": {},
   "outputs": [
    {
     "name": "stdout",
     "output_type": "stream",
     "text": [
      "+--------+------+------------------------------+\n",
      "|tweet_id|ticker|                          text|\n",
      "+--------+------+------------------------------+\n",
      "|       0|  AAPL|          RT @EnzadonCapita...|\n",
      "|       1|  AAPL|          I just know $AAPL...|\n",
      "|       2|  AAPL|          RT @RealJuicyTrad...|\n",
      "|       3|  AAPL|          RT @TechNewsClub:...|\n",
      "|       4|  AAPL|          What is the Feder...|\n",
      "|       5|  AAPL|          Poll: Could this ...|\n",
      "|       6|  AAPL|私のお気に入りは「AAPL」\\nh...|\n",
      "|       7|  AAPL|          RT @emrahvsibel: ...|\n",
      "|       8|  AAPL|          $AAPL  Looks like...|\n",
      "|       9|  AAPL|          #BREAKINGNEWS #Ne...|\n",
      "|      10|  AAPL|私のお気に入りは「AAPL」\\nh...|\n",
      "|      11|  AAPL|          RT @stageanalysis...|\n",
      "|      12|  AAPL|          $AAPL 1hr view fr...|\n",
      "|      13|  AAPL|          RT @emrahvsibel: ...|\n",
      "|      14|  AAPL|          @SteveWagsInvest ...|\n",
      "|      15|  AAPL|          Top Trending S&am...|\n",
      "|      16|  AAPL|          5 Advanced Secret...|\n",
      "|      17|  AAPL|          Unionization Talk...|\n",
      "|      18|  AAPL|          $AAPL Guys, Don't...|\n",
      "|      19|  AAPL|          RT @markgurman: P...|\n",
      "+--------+------+------------------------------+\n",
      "only showing top 20 rows\n",
      "\n"
     ]
    }
   ],
   "source": [
    "tweets = spark.read.parquet('/project/parquet_files/tweets.parquet')\n",
    "tweets.show()"
   ]
  },
  {
   "cell_type": "markdown",
   "id": "29b6e871",
   "metadata": {},
   "source": [
    "# Upload data"
   ]
  },
  {
   "cell_type": "code",
   "execution_count": 6,
   "id": "8aeb01f8",
   "metadata": {},
   "outputs": [],
   "source": [
    "# Configure database connection details\n",
    "postgres_uri = \"jdbc:postgresql://database-1.cfde4bhe6lbx.eu-west-2.rds.amazonaws.com:5432/dbtest\"\n",
    "user = \"\"\n",
    "password = \"\""
   ]
  },
  {
   "cell_type": "code",
   "execution_count": 7,
   "id": "64796d71",
   "metadata": {},
   "outputs": [],
   "source": [
    "# Upload S&P companies\n",
    "s_p_companies.select(\"ticker\").write.format(\"jdbc\") \\\n",
    "    .option(\"url\", postgres_uri) \\\n",
    "    .option(\"driver\", \"org.postgresql.Driver\") \\\n",
    "    .option(\"dbtable\", 'stocks_schema.s_p_companies') \\\n",
    "    .option(\"user\", user) \\\n",
    "    .mode(\"append\") \\\n",
    "    .option(\"password\", password).save()"
   ]
  },
  {
   "cell_type": "code",
   "execution_count": 8,
   "id": "8042e51c",
   "metadata": {},
   "outputs": [],
   "source": [
    "# Upload history\n",
    "history.select(\"ticker\").write.format(\"jdbc\") \\\n",
    "    .option(\"url\", postgres_uri) \\\n",
    "    .option(\"driver\", \"org.postgresql.Driver\") \\\n",
    "    .option(\"dbtable\", 'stocks_schema.history') \\\n",
    "    .option(\"user\", user) \\\n",
    "    .mode(\"append\") \\\n",
    "    .option(\"password\", password).save()"
   ]
  },
  {
   "cell_type": "code",
   "execution_count": 9,
   "id": "25522d96",
   "metadata": {},
   "outputs": [],
   "source": [
    "# Upload recommendations\n",
    "recommendations.select(\"ticker\").write.format(\"jdbc\") \\\n",
    "    .option(\"url\", postgres_uri) \\\n",
    "    .option(\"driver\", \"org.postgresql.Driver\") \\\n",
    "    .option(\"dbtable\", 'stocks_schema.recommendations') \\\n",
    "    .option(\"user\", user) \\\n",
    "    .mode(\"append\") \\\n",
    "    .option(\"password\", password).save()"
   ]
  },
  {
   "cell_type": "code",
   "execution_count": 10,
   "id": "1af18906",
   "metadata": {},
   "outputs": [],
   "source": [
    "# Upload tweets\n",
    "tweets.select(\"ticker\").write.format(\"jdbc\") \\\n",
    "    .option(\"url\", postgres_uri) \\\n",
    "    .option(\"driver\", \"org.postgresql.Driver\") \\\n",
    "    .option(\"dbtable\", 'stocks_schema.tweets') \\\n",
    "    .option(\"user\", user) \\\n",
    "    .mode(\"append\") \\\n",
    "    .option(\"password\", password).save()"
   ]
  }
 ],
 "metadata": {
  "kernelspec": {
   "display_name": "Python 3 (ipykernel)",
   "language": "python",
   "name": "python3"
  },
  "language_info": {
   "codemirror_mode": {
    "name": "ipython",
    "version": 3
   },
   "file_extension": ".py",
   "mimetype": "text/x-python",
   "name": "python",
   "nbconvert_exporter": "python",
   "pygments_lexer": "ipython3",
   "version": "3.9.7"
  }
 },
 "nbformat": 4,
 "nbformat_minor": 5
}
